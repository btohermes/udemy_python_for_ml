{
 "cells": [
  {
   "cell_type": "code",
   "execution_count": 1,
   "id": "d62e6341-a31e-43eb-81e4-1edf399cd480",
   "metadata": {},
   "outputs": [],
   "source": [
    "import numpy as np\n",
    "import pandas as pd\n",
    "import matplotlib.pyplot as plt\n",
    "import seaborn as sns\n",
    "from sklearn.model_selection import train_test_split\n",
    "from sklearn.model_selection import cross_validate\n",
    "from sklearn.preprocessing import StandardScaler\n",
    "from sklearn.linear_model import Ridge\n",
    "from sklearn.metrics import mean_squared_error"
   ]
  },
  {
   "cell_type": "code",
   "execution_count": 2,
   "id": "376a3f6a-9796-4945-81fc-d0e1b8a598eb",
   "metadata": {},
   "outputs": [],
   "source": [
    "df = pd.read_csv(\"../data/Advertising.csv\")"
   ]
  },
  {
   "cell_type": "code",
   "execution_count": 3,
   "id": "5eba8ef9-6fbd-46d4-a871-e837dc43dd02",
   "metadata": {},
   "outputs": [],
   "source": [
    "## Create X and Y\n",
    "X = df.drop(\"sales\", axis=1)\n",
    "y = df[\"sales\"]\n",
    "\n",
    "## Train Test Split\n",
    "X_train, X_test, y_train, y_test = train_test_split( X, y, test_size=0.3, random_state=101)\n",
    "\n",
    "## Scale Data\n",
    "scaler = StandardScaler()\n",
    "scaler.fit(X_train)\n",
    "X_train = scaler.transform(X_train)\n",
    "X_test = scaler.transform(X_test)"
   ]
  },
  {
   "cell_type": "code",
   "execution_count": 4,
   "id": "bcb6073a-8bcd-4303-8659-f0ca3ce02698",
   "metadata": {},
   "outputs": [],
   "source": [
    "model = Ridge(alpha=100)"
   ]
  },
  {
   "cell_type": "code",
   "execution_count": 5,
   "id": "cbe66390-563c-49ba-a073-db450f7e264f",
   "metadata": {
    "tags": []
   },
   "outputs": [],
   "source": [
    "scores = cross_validate(model, X_train, y_train, scoring=[\"neg_mean_squared_error\",\n",
    "                                                          \"neg_mean_absolute_error\"], cv=10)"
   ]
  },
  {
   "cell_type": "code",
   "execution_count": 6,
   "id": "26f1f151-9fd0-4ea5-ab92-165b9a560d43",
   "metadata": {
    "tags": []
   },
   "outputs": [],
   "source": [
    "scores = pd.DataFrame(scores)"
   ]
  },
  {
   "cell_type": "code",
   "execution_count": 7,
   "id": "94b38c5b-4eb0-42bf-9c54-4c8cbf0cf172",
   "metadata": {
    "tags": []
   },
   "outputs": [
    {
     "data": {
      "text/plain": [
       "fit_time                        0.000719\n",
       "score_time                      0.000691\n",
       "test_neg_mean_squared_error    -7.565121\n",
       "test_neg_mean_absolute_error   -2.083773\n",
       "dtype: float64"
      ]
     },
     "execution_count": 7,
     "metadata": {},
     "output_type": "execute_result"
    }
   ],
   "source": [
    "scores.mean()"
   ]
  },
  {
   "cell_type": "code",
   "execution_count": 8,
   "id": "825f4aa3-445e-4a36-96b2-56f2a2d36e6f",
   "metadata": {
    "tags": []
   },
   "outputs": [
    {
     "data": {
      "text/plain": [
       "fit_time                        0.001322\n",
       "score_time                      0.000622\n",
       "test_neg_mean_squared_error    -3.323018\n",
       "test_neg_mean_absolute_error   -1.308467\n",
       "dtype: float64"
      ]
     },
     "execution_count": 8,
     "metadata": {},
     "output_type": "execute_result"
    }
   ],
   "source": [
    "model = Ridge(alpha=1)\n",
    "scores = cross_validate(model, X_train, y_train, scoring=[\"neg_mean_squared_error\",\"neg_mean_absolute_error\"], cv=10)\n",
    "scores = pd.DataFrame(scores)\n",
    "scores.mean()"
   ]
  },
  {
   "cell_type": "code",
   "execution_count": 9,
   "id": "4c1373c7-3712-476d-b461-033aa6639ada",
   "metadata": {
    "tags": []
   },
   "outputs": [
    {
     "data": {
      "text/plain": [
       "2.3190215794287514"
      ]
     },
     "execution_count": 9,
     "metadata": {},
     "output_type": "execute_result"
    }
   ],
   "source": [
    "model = Ridge(alpha=1)\n",
    "model.fit(X_train, y_train)\n",
    "y_final_pred = model.predict(X_test)\n",
    "mean_squared_error(y_test, y_final_pred)"
   ]
  }
 ],
 "metadata": {
  "kernelspec": {
   "display_name": "Python 3 (ipykernel)",
   "language": "python",
   "name": "python3"
  },
  "language_info": {
   "codemirror_mode": {
    "name": "ipython",
    "version": 3
   },
   "file_extension": ".py",
   "mimetype": "text/x-python",
   "name": "python",
   "nbconvert_exporter": "python",
   "pygments_lexer": "ipython3",
   "version": "3.10.9"
  }
 },
 "nbformat": 4,
 "nbformat_minor": 5
}
