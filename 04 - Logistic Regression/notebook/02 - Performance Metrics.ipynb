{
 "cells": [
  {
   "cell_type": "code",
   "execution_count": 1,
   "id": "2b93ef95-6e66-4622-8582-264983c78eec",
   "metadata": {},
   "outputs": [],
   "source": [
    "import numpy as np\n",
    "import pandas as pd\n",
    "import matplotlib.pyplot as plt\n",
    "import seaborn as sns\n",
    "from sklearn.model_selection import train_test_split\n",
    "from sklearn.preprocessing import StandardScaler\n",
    "from sklearn.linear_model import LogisticRegression\n",
    "from sklearn.metrics import accuracy_score, classification_report\n",
    "from sklearn.metrics import confusion_matrix, ConfusionMatrixDisplay\n",
    "from sklearn.metrics import precision_score, recall_score\n",
    "from sklearn.metrics import roc_curve"
   ]
  },
  {
   "cell_type": "code",
   "execution_count": 2,
   "id": "959002cc-59d9-4477-a93f-79192fa20153",
   "metadata": {},
   "outputs": [
    {
     "data": {
      "text/html": [
       "<div>\n",
       "<style scoped>\n",
       "    .dataframe tbody tr th:only-of-type {\n",
       "        vertical-align: middle;\n",
       "    }\n",
       "\n",
       "    .dataframe tbody tr th {\n",
       "        vertical-align: top;\n",
       "    }\n",
       "\n",
       "    .dataframe thead th {\n",
       "        text-align: right;\n",
       "    }\n",
       "</style>\n",
       "<table border=\"1\" class=\"dataframe\">\n",
       "  <thead>\n",
       "    <tr style=\"text-align: right;\">\n",
       "      <th></th>\n",
       "      <th>age</th>\n",
       "      <th>physical_score</th>\n",
       "      <th>test_result</th>\n",
       "    </tr>\n",
       "  </thead>\n",
       "  <tbody>\n",
       "    <tr>\n",
       "      <th>0</th>\n",
       "      <td>33.0</td>\n",
       "      <td>40.7</td>\n",
       "      <td>1</td>\n",
       "    </tr>\n",
       "    <tr>\n",
       "      <th>1</th>\n",
       "      <td>50.0</td>\n",
       "      <td>37.2</td>\n",
       "      <td>1</td>\n",
       "    </tr>\n",
       "    <tr>\n",
       "      <th>2</th>\n",
       "      <td>52.0</td>\n",
       "      <td>24.7</td>\n",
       "      <td>0</td>\n",
       "    </tr>\n",
       "    <tr>\n",
       "      <th>3</th>\n",
       "      <td>56.0</td>\n",
       "      <td>31.0</td>\n",
       "      <td>0</td>\n",
       "    </tr>\n",
       "    <tr>\n",
       "      <th>4</th>\n",
       "      <td>35.0</td>\n",
       "      <td>42.9</td>\n",
       "      <td>1</td>\n",
       "    </tr>\n",
       "  </tbody>\n",
       "</table>\n",
       "</div>"
      ],
      "text/plain": [
       "    age  physical_score  test_result\n",
       "0  33.0            40.7            1\n",
       "1  50.0            37.2            1\n",
       "2  52.0            24.7            0\n",
       "3  56.0            31.0            0\n",
       "4  35.0            42.9            1"
      ]
     },
     "execution_count": 2,
     "metadata": {},
     "output_type": "execute_result"
    }
   ],
   "source": [
    "df = pd.read_csv(\"../data/hearing_test.csv\")\n",
    "df.head()"
   ]
  },
  {
   "cell_type": "code",
   "execution_count": 3,
   "id": "ad4a7dd2-14e6-4c2f-819d-b060726d1fb7",
   "metadata": {},
   "outputs": [],
   "source": [
    "X = df.drop(\"test_result\", axis=1)\n",
    "y = df[\"test_result\"]"
   ]
  },
  {
   "cell_type": "code",
   "execution_count": 4,
   "id": "06548c76-424c-4964-a6ed-62d61e845db0",
   "metadata": {},
   "outputs": [],
   "source": [
    "X_train, X_test, y_train, y_test = train_test_split(X, y, test_size=0.3, random_state=101)"
   ]
  },
  {
   "cell_type": "code",
   "execution_count": 5,
   "id": "3a67b455-a88c-42e2-8bb7-efb2508a7220",
   "metadata": {
    "tags": []
   },
   "outputs": [],
   "source": [
    "scaler = StandardScaler()\n",
    "scaled_X_train = scaler.fit_transform(X_train)\n",
    "scaled_X_test = scaler.transform(X_test)\n"
   ]
  },
  {
   "cell_type": "code",
   "execution_count": 6,
   "id": "0fc1b8fe-56dd-463d-87cf-6e0526dec4c7",
   "metadata": {
    "tags": []
   },
   "outputs": [
    {
     "data": {
      "text/html": [
       "<style>#sk-container-id-1 {color: black;background-color: white;}#sk-container-id-1 pre{padding: 0;}#sk-container-id-1 div.sk-toggleable {background-color: white;}#sk-container-id-1 label.sk-toggleable__label {cursor: pointer;display: block;width: 100%;margin-bottom: 0;padding: 0.3em;box-sizing: border-box;text-align: center;}#sk-container-id-1 label.sk-toggleable__label-arrow:before {content: \"▸\";float: left;margin-right: 0.25em;color: #696969;}#sk-container-id-1 label.sk-toggleable__label-arrow:hover:before {color: black;}#sk-container-id-1 div.sk-estimator:hover label.sk-toggleable__label-arrow:before {color: black;}#sk-container-id-1 div.sk-toggleable__content {max-height: 0;max-width: 0;overflow: hidden;text-align: left;background-color: #f0f8ff;}#sk-container-id-1 div.sk-toggleable__content pre {margin: 0.2em;color: black;border-radius: 0.25em;background-color: #f0f8ff;}#sk-container-id-1 input.sk-toggleable__control:checked~div.sk-toggleable__content {max-height: 200px;max-width: 100%;overflow: auto;}#sk-container-id-1 input.sk-toggleable__control:checked~label.sk-toggleable__label-arrow:before {content: \"▾\";}#sk-container-id-1 div.sk-estimator input.sk-toggleable__control:checked~label.sk-toggleable__label {background-color: #d4ebff;}#sk-container-id-1 div.sk-label input.sk-toggleable__control:checked~label.sk-toggleable__label {background-color: #d4ebff;}#sk-container-id-1 input.sk-hidden--visually {border: 0;clip: rect(1px 1px 1px 1px);clip: rect(1px, 1px, 1px, 1px);height: 1px;margin: -1px;overflow: hidden;padding: 0;position: absolute;width: 1px;}#sk-container-id-1 div.sk-estimator {font-family: monospace;background-color: #f0f8ff;border: 1px dotted black;border-radius: 0.25em;box-sizing: border-box;margin-bottom: 0.5em;}#sk-container-id-1 div.sk-estimator:hover {background-color: #d4ebff;}#sk-container-id-1 div.sk-parallel-item::after {content: \"\";width: 100%;border-bottom: 1px solid gray;flex-grow: 1;}#sk-container-id-1 div.sk-label:hover label.sk-toggleable__label {background-color: #d4ebff;}#sk-container-id-1 div.sk-serial::before {content: \"\";position: absolute;border-left: 1px solid gray;box-sizing: border-box;top: 0;bottom: 0;left: 50%;z-index: 0;}#sk-container-id-1 div.sk-serial {display: flex;flex-direction: column;align-items: center;background-color: white;padding-right: 0.2em;padding-left: 0.2em;position: relative;}#sk-container-id-1 div.sk-item {position: relative;z-index: 1;}#sk-container-id-1 div.sk-parallel {display: flex;align-items: stretch;justify-content: center;background-color: white;position: relative;}#sk-container-id-1 div.sk-item::before, #sk-container-id-1 div.sk-parallel-item::before {content: \"\";position: absolute;border-left: 1px solid gray;box-sizing: border-box;top: 0;bottom: 0;left: 50%;z-index: -1;}#sk-container-id-1 div.sk-parallel-item {display: flex;flex-direction: column;z-index: 1;position: relative;background-color: white;}#sk-container-id-1 div.sk-parallel-item:first-child::after {align-self: flex-end;width: 50%;}#sk-container-id-1 div.sk-parallel-item:last-child::after {align-self: flex-start;width: 50%;}#sk-container-id-1 div.sk-parallel-item:only-child::after {width: 0;}#sk-container-id-1 div.sk-dashed-wrapped {border: 1px dashed gray;margin: 0 0.4em 0.5em 0.4em;box-sizing: border-box;padding-bottom: 0.4em;background-color: white;}#sk-container-id-1 div.sk-label label {font-family: monospace;font-weight: bold;display: inline-block;line-height: 1.2em;}#sk-container-id-1 div.sk-label-container {text-align: center;}#sk-container-id-1 div.sk-container {/* jupyter's `normalize.less` sets `[hidden] { display: none; }` but bootstrap.min.css set `[hidden] { display: none !important; }` so we also need the `!important` here to be able to override the default hidden behavior on the sphinx rendered scikit-learn.org. See: https://github.com/scikit-learn/scikit-learn/issues/21755 */display: inline-block !important;position: relative;}#sk-container-id-1 div.sk-text-repr-fallback {display: none;}</style><div id=\"sk-container-id-1\" class=\"sk-top-container\"><div class=\"sk-text-repr-fallback\"><pre>LogisticRegression()</pre><b>In a Jupyter environment, please rerun this cell to show the HTML representation or trust the notebook. <br />On GitHub, the HTML representation is unable to render, please try loading this page with nbviewer.org.</b></div><div class=\"sk-container\" hidden><div class=\"sk-item\"><div class=\"sk-estimator sk-toggleable\"><input class=\"sk-toggleable__control sk-hidden--visually\" id=\"sk-estimator-id-1\" type=\"checkbox\" checked><label for=\"sk-estimator-id-1\" class=\"sk-toggleable__label sk-toggleable__label-arrow\">LogisticRegression</label><div class=\"sk-toggleable__content\"><pre>LogisticRegression()</pre></div></div></div></div></div>"
      ],
      "text/plain": [
       "LogisticRegression()"
      ]
     },
     "execution_count": 6,
     "metadata": {},
     "output_type": "execute_result"
    }
   ],
   "source": [
    "log_model = LogisticRegression()\n",
    "log_model.fit(scaled_X_train, y_train)"
   ]
  },
  {
   "cell_type": "code",
   "execution_count": 7,
   "id": "f28b55c0-ccf5-44f3-b978-3c2b442830d4",
   "metadata": {
    "tags": []
   },
   "outputs": [
    {
     "data": {
      "text/plain": [
       "array([[-0.91653034,  3.4506941 ]])"
      ]
     },
     "execution_count": 7,
     "metadata": {},
     "output_type": "execute_result"
    }
   ],
   "source": [
    "log_model.coef_"
   ]
  },
  {
   "cell_type": "code",
   "execution_count": 8,
   "id": "6436112f-03e2-45f5-8b64-c4194aeef76e",
   "metadata": {
    "tags": []
   },
   "outputs": [
    {
     "data": {
      "text/plain": [
       "array([1, 1, 0, ..., 0, 1, 1], dtype=int64)"
      ]
     },
     "execution_count": 8,
     "metadata": {},
     "output_type": "execute_result"
    }
   ],
   "source": [
    "y_pred = log_model.predict(scaled_X_test)\n",
    "y_pred"
   ]
  },
  {
   "cell_type": "code",
   "execution_count": 9,
   "id": "7cc27d00-ee2f-42cd-9daf-f8cb986039e1",
   "metadata": {
    "tags": []
   },
   "outputs": [
    {
     "data": {
      "text/plain": [
       "0.9206666666666666"
      ]
     },
     "execution_count": 9,
     "metadata": {},
     "output_type": "execute_result"
    }
   ],
   "source": [
    "accuracy_score = accuracy_score(y_test, y_pred)\n",
    "accuracy_score"
   ]
  },
  {
   "cell_type": "code",
   "execution_count": 10,
   "id": "f189ea2e-6ea8-402c-83fd-26c1bed81ff1",
   "metadata": {
    "tags": []
   },
   "outputs": [
    {
     "data": {
      "text/plain": [
       "array([[515,  82],\n",
       "       [ 37, 866]], dtype=int64)"
      ]
     },
     "execution_count": 10,
     "metadata": {},
     "output_type": "execute_result"
    }
   ],
   "source": [
    "confusion_matrix = confusion_matrix(y_test, y_pred)\n",
    "confusion_matrix"
   ]
  },
  {
   "cell_type": "markdown",
   "id": "baee2653-6f6d-4824-a5d0-839750f89b2b",
   "metadata": {},
   "source": [
    "**Nota:**\n",
    "A partir desta célula o curso apresenta uma funcao que foi descontinuada por isso tive de adaptar com o codigo que fui descobrir."
   ]
  },
  {
   "cell_type": "code",
   "execution_count": 11,
   "id": "8d79f48f-fecc-40ef-8054-3f7e346db2ee",
   "metadata": {
    "collapsed": true,
    "jupyter": {
     "outputs_hidden": true
    },
    "tags": []
   },
   "outputs": [
    {
     "name": "stdout",
     "output_type": "stream",
     "text": [
      "Help on class ConfusionMatrixDisplay in module sklearn.metrics._plot.confusion_matrix:\n",
      "\n",
      "class ConfusionMatrixDisplay(builtins.object)\n",
      " |  ConfusionMatrixDisplay(confusion_matrix, *, display_labels=None)\n",
      " |  \n",
      " |  Confusion Matrix visualization.\n",
      " |  \n",
      " |  It is recommend to use\n",
      " |  :func:`~sklearn.metrics.ConfusionMatrixDisplay.from_estimator` or\n",
      " |  :func:`~sklearn.metrics.ConfusionMatrixDisplay.from_predictions` to\n",
      " |  create a :class:`ConfusionMatrixDisplay`. All parameters are stored as\n",
      " |  attributes.\n",
      " |  \n",
      " |  Read more in the :ref:`User Guide <visualizations>`.\n",
      " |  \n",
      " |  Parameters\n",
      " |  ----------\n",
      " |  confusion_matrix : ndarray of shape (n_classes, n_classes)\n",
      " |      Confusion matrix.\n",
      " |  \n",
      " |  display_labels : ndarray of shape (n_classes,), default=None\n",
      " |      Display labels for plot. If None, display labels are set from 0 to\n",
      " |      `n_classes - 1`.\n",
      " |  \n",
      " |  Attributes\n",
      " |  ----------\n",
      " |  im_ : matplotlib AxesImage\n",
      " |      Image representing the confusion matrix.\n",
      " |  \n",
      " |  text_ : ndarray of shape (n_classes, n_classes), dtype=matplotlib Text,             or None\n",
      " |      Array of matplotlib axes. `None` if `include_values` is false.\n",
      " |  \n",
      " |  ax_ : matplotlib Axes\n",
      " |      Axes with confusion matrix.\n",
      " |  \n",
      " |  figure_ : matplotlib Figure\n",
      " |      Figure containing the confusion matrix.\n",
      " |  \n",
      " |  See Also\n",
      " |  --------\n",
      " |  confusion_matrix : Compute Confusion Matrix to evaluate the accuracy of a\n",
      " |      classification.\n",
      " |  ConfusionMatrixDisplay.from_estimator : Plot the confusion matrix\n",
      " |      given an estimator, the data, and the label.\n",
      " |  ConfusionMatrixDisplay.from_predictions : Plot the confusion matrix\n",
      " |      given the true and predicted labels.\n",
      " |  \n",
      " |  Examples\n",
      " |  --------\n",
      " |  >>> import matplotlib.pyplot as plt\n",
      " |  >>> from sklearn.datasets import make_classification\n",
      " |  >>> from sklearn.metrics import confusion_matrix, ConfusionMatrixDisplay\n",
      " |  >>> from sklearn.model_selection import train_test_split\n",
      " |  >>> from sklearn.svm import SVC\n",
      " |  >>> X, y = make_classification(random_state=0)\n",
      " |  >>> X_train, X_test, y_train, y_test = train_test_split(X, y,\n",
      " |  ...                                                     random_state=0)\n",
      " |  >>> clf = SVC(random_state=0)\n",
      " |  >>> clf.fit(X_train, y_train)\n",
      " |  SVC(random_state=0)\n",
      " |  >>> predictions = clf.predict(X_test)\n",
      " |  >>> cm = confusion_matrix(y_test, predictions, labels=clf.classes_)\n",
      " |  >>> disp = ConfusionMatrixDisplay(confusion_matrix=cm,\n",
      " |  ...                               display_labels=clf.classes_)\n",
      " |  >>> disp.plot()\n",
      " |  <...>\n",
      " |  >>> plt.show()\n",
      " |  \n",
      " |  Methods defined here:\n",
      " |  \n",
      " |  __init__(self, confusion_matrix, *, display_labels=None)\n",
      " |      Initialize self.  See help(type(self)) for accurate signature.\n",
      " |  \n",
      " |  plot(self, *, include_values=True, cmap='viridis', xticks_rotation='horizontal', values_format=None, ax=None, colorbar=True, im_kw=None, text_kw=None)\n",
      " |      Plot visualization.\n",
      " |      \n",
      " |      Parameters\n",
      " |      ----------\n",
      " |      include_values : bool, default=True\n",
      " |          Includes values in confusion matrix.\n",
      " |      \n",
      " |      cmap : str or matplotlib Colormap, default='viridis'\n",
      " |          Colormap recognized by matplotlib.\n",
      " |      \n",
      " |      xticks_rotation : {'vertical', 'horizontal'} or float,                          default='horizontal'\n",
      " |          Rotation of xtick labels.\n",
      " |      \n",
      " |      values_format : str, default=None\n",
      " |          Format specification for values in confusion matrix. If `None`,\n",
      " |          the format specification is 'd' or '.2g' whichever is shorter.\n",
      " |      \n",
      " |      ax : matplotlib axes, default=None\n",
      " |          Axes object to plot on. If `None`, a new figure and axes is\n",
      " |          created.\n",
      " |      \n",
      " |      colorbar : bool, default=True\n",
      " |          Whether or not to add a colorbar to the plot.\n",
      " |      \n",
      " |      im_kw : dict, default=None\n",
      " |          Dict with keywords passed to `matplotlib.pyplot.imshow` call.\n",
      " |      \n",
      " |      text_kw : dict, default=None\n",
      " |          Dict with keywords passed to `matplotlib.pyplot.text` call.\n",
      " |      \n",
      " |          .. versionadded:: 1.2\n",
      " |      \n",
      " |      Returns\n",
      " |      -------\n",
      " |      display : :class:`~sklearn.metrics.ConfusionMatrixDisplay`\n",
      " |          Returns a :class:`~sklearn.metrics.ConfusionMatrixDisplay` instance\n",
      " |          that contains all the information to plot the confusion matrix.\n",
      " |  \n",
      " |  ----------------------------------------------------------------------\n",
      " |  Class methods defined here:\n",
      " |  \n",
      " |  from_estimator(estimator, X, y, *, labels=None, sample_weight=None, normalize=None, display_labels=None, include_values=True, xticks_rotation='horizontal', values_format=None, cmap='viridis', ax=None, colorbar=True, im_kw=None, text_kw=None) from builtins.type\n",
      " |      Plot Confusion Matrix given an estimator and some data.\n",
      " |      \n",
      " |      Read more in the :ref:`User Guide <confusion_matrix>`.\n",
      " |      \n",
      " |      .. versionadded:: 1.0\n",
      " |      \n",
      " |      Parameters\n",
      " |      ----------\n",
      " |      estimator : estimator instance\n",
      " |          Fitted classifier or a fitted :class:`~sklearn.pipeline.Pipeline`\n",
      " |          in which the last estimator is a classifier.\n",
      " |      \n",
      " |      X : {array-like, sparse matrix} of shape (n_samples, n_features)\n",
      " |          Input values.\n",
      " |      \n",
      " |      y : array-like of shape (n_samples,)\n",
      " |          Target values.\n",
      " |      \n",
      " |      labels : array-like of shape (n_classes,), default=None\n",
      " |          List of labels to index the confusion matrix. This may be used to\n",
      " |          reorder or select a subset of labels. If `None` is given, those\n",
      " |          that appear at least once in `y_true` or `y_pred` are used in\n",
      " |          sorted order.\n",
      " |      \n",
      " |      sample_weight : array-like of shape (n_samples,), default=None\n",
      " |          Sample weights.\n",
      " |      \n",
      " |      normalize : {'true', 'pred', 'all'}, default=None\n",
      " |          Either to normalize the counts display in the matrix:\n",
      " |      \n",
      " |          - if `'true'`, the confusion matrix is normalized over the true\n",
      " |            conditions (e.g. rows);\n",
      " |          - if `'pred'`, the confusion matrix is normalized over the\n",
      " |            predicted conditions (e.g. columns);\n",
      " |          - if `'all'`, the confusion matrix is normalized by the total\n",
      " |            number of samples;\n",
      " |          - if `None` (default), the confusion matrix will not be normalized.\n",
      " |      \n",
      " |      display_labels : array-like of shape (n_classes,), default=None\n",
      " |          Target names used for plotting. By default, `labels` will be used\n",
      " |          if it is defined, otherwise the unique labels of `y_true` and\n",
      " |          `y_pred` will be used.\n",
      " |      \n",
      " |      include_values : bool, default=True\n",
      " |          Includes values in confusion matrix.\n",
      " |      \n",
      " |      xticks_rotation : {'vertical', 'horizontal'} or float,                 default='horizontal'\n",
      " |          Rotation of xtick labels.\n",
      " |      \n",
      " |      values_format : str, default=None\n",
      " |          Format specification for values in confusion matrix. If `None`, the\n",
      " |          format specification is 'd' or '.2g' whichever is shorter.\n",
      " |      \n",
      " |      cmap : str or matplotlib Colormap, default='viridis'\n",
      " |          Colormap recognized by matplotlib.\n",
      " |      \n",
      " |      ax : matplotlib Axes, default=None\n",
      " |          Axes object to plot on. If `None`, a new figure and axes is\n",
      " |          created.\n",
      " |      \n",
      " |      colorbar : bool, default=True\n",
      " |          Whether or not to add a colorbar to the plot.\n",
      " |      \n",
      " |      im_kw : dict, default=None\n",
      " |          Dict with keywords passed to `matplotlib.pyplot.imshow` call.\n",
      " |      \n",
      " |      text_kw : dict, default=None\n",
      " |          Dict with keywords passed to `matplotlib.pyplot.text` call.\n",
      " |      \n",
      " |          .. versionadded:: 1.2\n",
      " |      \n",
      " |      Returns\n",
      " |      -------\n",
      " |      display : :class:`~sklearn.metrics.ConfusionMatrixDisplay`\n",
      " |      \n",
      " |      See Also\n",
      " |      --------\n",
      " |      ConfusionMatrixDisplay.from_predictions : Plot the confusion matrix\n",
      " |          given the true and predicted labels.\n",
      " |      \n",
      " |      Examples\n",
      " |      --------\n",
      " |      >>> import matplotlib.pyplot as plt\n",
      " |      >>> from sklearn.datasets import make_classification\n",
      " |      >>> from sklearn.metrics import ConfusionMatrixDisplay\n",
      " |      >>> from sklearn.model_selection import train_test_split\n",
      " |      >>> from sklearn.svm import SVC\n",
      " |      >>> X, y = make_classification(random_state=0)\n",
      " |      >>> X_train, X_test, y_train, y_test = train_test_split(\n",
      " |      ...         X, y, random_state=0)\n",
      " |      >>> clf = SVC(random_state=0)\n",
      " |      >>> clf.fit(X_train, y_train)\n",
      " |      SVC(random_state=0)\n",
      " |      >>> ConfusionMatrixDisplay.from_estimator(\n",
      " |      ...     clf, X_test, y_test)\n",
      " |      <...>\n",
      " |      >>> plt.show()\n",
      " |  \n",
      " |  from_predictions(y_true, y_pred, *, labels=None, sample_weight=None, normalize=None, display_labels=None, include_values=True, xticks_rotation='horizontal', values_format=None, cmap='viridis', ax=None, colorbar=True, im_kw=None, text_kw=None) from builtins.type\n",
      " |      Plot Confusion Matrix given true and predicted labels.\n",
      " |      \n",
      " |      Read more in the :ref:`User Guide <confusion_matrix>`.\n",
      " |      \n",
      " |      .. versionadded:: 1.0\n",
      " |      \n",
      " |      Parameters\n",
      " |      ----------\n",
      " |      y_true : array-like of shape (n_samples,)\n",
      " |          True labels.\n",
      " |      \n",
      " |      y_pred : array-like of shape (n_samples,)\n",
      " |          The predicted labels given by the method `predict` of an\n",
      " |          classifier.\n",
      " |      \n",
      " |      labels : array-like of shape (n_classes,), default=None\n",
      " |          List of labels to index the confusion matrix. This may be used to\n",
      " |          reorder or select a subset of labels. If `None` is given, those\n",
      " |          that appear at least once in `y_true` or `y_pred` are used in\n",
      " |          sorted order.\n",
      " |      \n",
      " |      sample_weight : array-like of shape (n_samples,), default=None\n",
      " |          Sample weights.\n",
      " |      \n",
      " |      normalize : {'true', 'pred', 'all'}, default=None\n",
      " |          Either to normalize the counts display in the matrix:\n",
      " |      \n",
      " |          - if `'true'`, the confusion matrix is normalized over the true\n",
      " |            conditions (e.g. rows);\n",
      " |          - if `'pred'`, the confusion matrix is normalized over the\n",
      " |            predicted conditions (e.g. columns);\n",
      " |          - if `'all'`, the confusion matrix is normalized by the total\n",
      " |            number of samples;\n",
      " |          - if `None` (default), the confusion matrix will not be normalized.\n",
      " |      \n",
      " |      display_labels : array-like of shape (n_classes,), default=None\n",
      " |          Target names used for plotting. By default, `labels` will be used\n",
      " |          if it is defined, otherwise the unique labels of `y_true` and\n",
      " |          `y_pred` will be used.\n",
      " |      \n",
      " |      include_values : bool, default=True\n",
      " |          Includes values in confusion matrix.\n",
      " |      \n",
      " |      xticks_rotation : {'vertical', 'horizontal'} or float,                 default='horizontal'\n",
      " |          Rotation of xtick labels.\n",
      " |      \n",
      " |      values_format : str, default=None\n",
      " |          Format specification for values in confusion matrix. If `None`, the\n",
      " |          format specification is 'd' or '.2g' whichever is shorter.\n",
      " |      \n",
      " |      cmap : str or matplotlib Colormap, default='viridis'\n",
      " |          Colormap recognized by matplotlib.\n",
      " |      \n",
      " |      ax : matplotlib Axes, default=None\n",
      " |          Axes object to plot on. If `None`, a new figure and axes is\n",
      " |          created.\n",
      " |      \n",
      " |      colorbar : bool, default=True\n",
      " |          Whether or not to add a colorbar to the plot.\n",
      " |      \n",
      " |      im_kw : dict, default=None\n",
      " |          Dict with keywords passed to `matplotlib.pyplot.imshow` call.\n",
      " |      \n",
      " |      text_kw : dict, default=None\n",
      " |          Dict with keywords passed to `matplotlib.pyplot.text` call.\n",
      " |      \n",
      " |          .. versionadded:: 1.2\n",
      " |      \n",
      " |      Returns\n",
      " |      -------\n",
      " |      display : :class:`~sklearn.metrics.ConfusionMatrixDisplay`\n",
      " |      \n",
      " |      See Also\n",
      " |      --------\n",
      " |      ConfusionMatrixDisplay.from_estimator : Plot the confusion matrix\n",
      " |          given an estimator, the data, and the label.\n",
      " |      \n",
      " |      Examples\n",
      " |      --------\n",
      " |      >>> import matplotlib.pyplot as plt\n",
      " |      >>> from sklearn.datasets import make_classification\n",
      " |      >>> from sklearn.metrics import ConfusionMatrixDisplay\n",
      " |      >>> from sklearn.model_selection import train_test_split\n",
      " |      >>> from sklearn.svm import SVC\n",
      " |      >>> X, y = make_classification(random_state=0)\n",
      " |      >>> X_train, X_test, y_train, y_test = train_test_split(\n",
      " |      ...         X, y, random_state=0)\n",
      " |      >>> clf = SVC(random_state=0)\n",
      " |      >>> clf.fit(X_train, y_train)\n",
      " |      SVC(random_state=0)\n",
      " |      >>> y_pred = clf.predict(X_test)\n",
      " |      >>> ConfusionMatrixDisplay.from_predictions(\n",
      " |      ...    y_test, y_pred)\n",
      " |      <...>\n",
      " |      >>> plt.show()\n",
      " |  \n",
      " |  ----------------------------------------------------------------------\n",
      " |  Data descriptors defined here:\n",
      " |  \n",
      " |  __dict__\n",
      " |      dictionary for instance variables (if defined)\n",
      " |  \n",
      " |  __weakref__\n",
      " |      list of weak references to the object (if defined)\n",
      "\n"
     ]
    }
   ],
   "source": [
    "help(ConfusionMatrixDisplay)"
   ]
  },
  {
   "cell_type": "code",
   "execution_count": 12,
   "id": "70328d73-8bd3-4a25-bd77-82ec789136aa",
   "metadata": {
    "tags": []
   },
   "outputs": [
    {
     "data": {
      "text/plain": [
       "<sklearn.metrics._plot.confusion_matrix.ConfusionMatrixDisplay at 0x26f2d710820>"
      ]
     },
     "execution_count": 12,
     "metadata": {},
     "output_type": "execute_result"
    },
    {
     "data": {
      "image/png": "[encoded data removed]",
      "text/plain": [
       "<Figure size 640x480 with 2 Axes>"
      ]
     },
     "metadata": {},
     "output_type": "display_data"
    }
   ],
   "source": [
    "ConfusionMatrixDisplay(confusion_matrix=confusion_matrix).plot()"
   ]
  },
  {
   "cell_type": "code",
   "execution_count": 13,
   "id": "e2e4ce8d-97d3-4eb0-a4b0-b816921ad1ee",
   "metadata": {
    "tags": []
   },
   "outputs": [
    {
     "data": {
      "text/plain": [
       "<sklearn.metrics._plot.confusion_matrix.ConfusionMatrixDisplay at 0x26f6b9b6d70>"
      ]
     },
     "execution_count": 13,
     "metadata": {},
     "output_type": "execute_result"
    }
   ],
   "source": [
    "ConfusionMatrixDisplay(confusion_matrix= confusion_matrix)"
   ]
  },
  {
   "cell_type": "code",
   "execution_count": 14,
   "id": "82226402-3a66-4b9d-b783-8a1783bee4ac",
   "metadata": {
    "tags": []
   },
   "outputs": [
    {
     "name": "stdout",
     "output_type": "stream",
     "text": [
      "              precision    recall  f1-score   support\n",
      "\n",
      "           0       0.93      0.86      0.90       597\n",
      "           1       0.91      0.96      0.94       903\n",
      "\n",
      "    accuracy                           0.92      1500\n",
      "   macro avg       0.92      0.91      0.92      1500\n",
      "weighted avg       0.92      0.92      0.92      1500\n",
      "\n"
     ]
    }
   ],
   "source": [
    "print(classification_report(y_test, y_pred))"
   ]
  },
  {
   "cell_type": "code",
   "execution_count": 15,
   "id": "4fb929f0-7920-4cfc-bddd-ce4fcc4bd3c9",
   "metadata": {
    "tags": []
   },
   "outputs": [
    {
     "data": {
      "text/plain": [
       "0.9135021097046413"
      ]
     },
     "execution_count": 15,
     "metadata": {},
     "output_type": "execute_result"
    }
   ],
   "source": [
    "precision_score(y_test, y_pred)"
   ]
  },
  {
   "cell_type": "code",
   "execution_count": 16,
   "id": "dfaa9285-50ac-40ff-931f-a88ba10f3c4b",
   "metadata": {
    "tags": []
   },
   "outputs": [
    {
     "data": {
      "text/plain": [
       "0.9590254706533776"
      ]
     },
     "execution_count": 16,
     "metadata": {},
     "output_type": "execute_result"
    }
   ],
   "source": [
    "recall_score(y_test, y_pred)"
   ]
  },
  {
   "cell_type": "markdown",
   "id": "5247ea3e-1855-4772-8940-fd73ba1904b5",
   "metadata": {},
   "source": [
    "## Note\n",
    "Mais uma vez o curso está desactualizado comparado com a versao corrente do sklearn.\n",
    "O seguinte codigo foi uma adaptaçao do seguinte url\n",
    "- [How to plot ROC Curve](https://www.statology.org/plot-roc-curve-python/)"
   ]
  },
  {
   "cell_type": "code",
   "execution_count": 17,
   "id": "863442a7-96cb-4470-84e1-7e70aaaeda16",
   "metadata": {
    "collapsed": true,
    "jupyter": {
     "outputs_hidden": true
    },
    "tags": []
   },
   "outputs": [
    {
     "name": "stdout",
     "output_type": "stream",
     "text": [
      "Help on function roc_curve in module sklearn.metrics._ranking:\n",
      "\n",
      "roc_curve(y_true, y_score, *, pos_label=None, sample_weight=None, drop_intermediate=True)\n",
      "    Compute Receiver operating characteristic (ROC).\n",
      "    \n",
      "    Note: this implementation is restricted to the binary classification task.\n",
      "    \n",
      "    Read more in the :ref:`User Guide <roc_metrics>`.\n",
      "    \n",
      "    Parameters\n",
      "    ----------\n",
      "    y_true : ndarray of shape (n_samples,)\n",
      "        True binary labels. If labels are not either {-1, 1} or {0, 1}, then\n",
      "        pos_label should be explicitly given.\n",
      "    \n",
      "    y_score : ndarray of shape (n_samples,)\n",
      "        Target scores, can either be probability estimates of the positive\n",
      "        class, confidence values, or non-thresholded measure of decisions\n",
      "        (as returned by \"decision_function\" on some classifiers).\n",
      "    \n",
      "    pos_label : int or str, default=None\n",
      "        The label of the positive class.\n",
      "        When ``pos_label=None``, if `y_true` is in {-1, 1} or {0, 1},\n",
      "        ``pos_label`` is set to 1, otherwise an error will be raised.\n",
      "    \n",
      "    sample_weight : array-like of shape (n_samples,), default=None\n",
      "        Sample weights.\n",
      "    \n",
      "    drop_intermediate : bool, default=True\n",
      "        Whether to drop some suboptimal thresholds which would not appear\n",
      "        on a plotted ROC curve. This is useful in order to create lighter\n",
      "        ROC curves.\n",
      "    \n",
      "        .. versionadded:: 0.17\n",
      "           parameter *drop_intermediate*.\n",
      "    \n",
      "    Returns\n",
      "    -------\n",
      "    fpr : ndarray of shape (>2,)\n",
      "        Increasing false positive rates such that element i is the false\n",
      "        positive rate of predictions with score >= `thresholds[i]`.\n",
      "    \n",
      "    tpr : ndarray of shape (>2,)\n",
      "        Increasing true positive rates such that element `i` is the true\n",
      "        positive rate of predictions with score >= `thresholds[i]`.\n",
      "    \n",
      "    thresholds : ndarray of shape = (n_thresholds,)\n",
      "        Decreasing thresholds on the decision function used to compute\n",
      "        fpr and tpr. `thresholds[0]` represents no instances being predicted\n",
      "        and is arbitrarily set to `max(y_score) + 1`.\n",
      "    \n",
      "    See Also\n",
      "    --------\n",
      "    RocCurveDisplay.from_estimator : Plot Receiver Operating Characteristic\n",
      "        (ROC) curve given an estimator and some data.\n",
      "    RocCurveDisplay.from_predictions : Plot Receiver Operating Characteristic\n",
      "        (ROC) curve given the true and predicted values.\n",
      "    det_curve: Compute error rates for different probability thresholds.\n",
      "    roc_auc_score : Compute the area under the ROC curve.\n",
      "    \n",
      "    Notes\n",
      "    -----\n",
      "    Since the thresholds are sorted from low to high values, they\n",
      "    are reversed upon returning them to ensure they correspond to both ``fpr``\n",
      "    and ``tpr``, which are sorted in reversed order during their calculation.\n",
      "    \n",
      "    References\n",
      "    ----------\n",
      "    .. [1] `Wikipedia entry for the Receiver operating characteristic\n",
      "            <https://en.wikipedia.org/wiki/Receiver_operating_characteristic>`_\n",
      "    \n",
      "    .. [2] Fawcett T. An introduction to ROC analysis[J]. Pattern Recognition\n",
      "           Letters, 2006, 27(8):861-874.\n",
      "    \n",
      "    Examples\n",
      "    --------\n",
      "    >>> import numpy as np\n",
      "    >>> from sklearn import metrics\n",
      "    >>> y = np.array([1, 1, 2, 2])\n",
      "    >>> scores = np.array([0.1, 0.4, 0.35, 0.8])\n",
      "    >>> fpr, tpr, thresholds = metrics.roc_curve(y, scores, pos_label=2)\n",
      "    >>> fpr\n",
      "    array([0. , 0. , 0.5, 0.5, 1. ])\n",
      "    >>> tpr\n",
      "    array([0. , 0.5, 0.5, 1. , 1. ])\n",
      "    >>> thresholds\n",
      "    array([1.8 , 0.8 , 0.4 , 0.35, 0.1 ])\n",
      "\n"
     ]
    }
   ],
   "source": [
    "help(roc_curve)"
   ]
  },
  {
   "cell_type": "code",
   "execution_count": 18,
   "id": "351c15bf-c939-42fc-94ec-0491e1696b11",
   "metadata": {
    "tags": []
   },
   "outputs": [],
   "source": [
    "fpr, tpr, _= roc_curve(y_test,  y_pred)"
   ]
  },
  {
   "cell_type": "code",
   "execution_count": 19,
   "id": "fb93ea22-ed51-4237-8d67-e93ffcc137c0",
   "metadata": {
    "tags": []
   },
   "outputs": [
    {
     "data": {
      "image/png": "[encoded data removed]",
      "text/plain": [
       "<Figure size 640x480 with 1 Axes>"
      ]
     },
     "metadata": {},
     "output_type": "display_data"
    }
   ],
   "source": [
    "plt.plot(fpr,tpr)\n",
    "plt.ylabel('True Positive Rate')\n",
    "plt.xlabel('False Positive Rate')\n",
    "plt.show()"
   ]
  }
 ],
 "metadata": {
  "kernelspec": {
   "display_name": "Python 3 (ipykernel)",
   "language": "python",
   "name": "python3"
  },
  "language_info": {
   "codemirror_mode": {
    "name": "ipython",
    "version": 3
   },
   "file_extension": ".py",
   "mimetype": "text/x-python",
   "name": "python",
   "nbconvert_exporter": "python",
   "pygments_lexer": "ipython3",
   "version": "3.10.9"
  }
 },
 "nbformat": 4,
 "nbformat_minor": 5
}
