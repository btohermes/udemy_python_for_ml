{
 "cells": [
  {
   "cell_type": "markdown",
   "id": "1b3cff21-d28e-4785-9ee6-4c01b04cd1ca",
   "metadata": {},
   "source": [
    "#### Hello World - Julia"
   ]
  },
  {
   "cell_type": "code",
   "execution_count": 7,
   "id": "5d6b8d4b-f78b-467c-aba1-c22c786ab70d",
   "metadata": {
    "tags": []
   },
   "outputs": [
    {
     "name": "stdout",
     "output_type": "stream",
     "text": [
      "Hello World. Este é o teu primeiro programa de Julia\n"
     ]
    }
   ],
   "source": [
    "println(\"Hello World. Este é o teu primeiro programa de Julia\")"
   ]
  },
  {
   "cell_type": "code",
   "execution_count": 4,
   "id": "5976bb10-1f3f-48f1-b8ee-c7281c4ac774",
   "metadata": {
    "tags": []
   },
   "outputs": [
    {
     "data": {
      "text/plain": [
       "3"
      ]
     },
     "execution_count": 4,
     "metadata": {},
     "output_type": "execute_result"
    }
   ],
   "source": [
    "a = 3\n",
    "b = 6\n",
    "a"
   ]
  },
  {
   "cell_type": "code",
   "execution_count": 5,
   "id": "e5e57f4b-b4db-401b-8dba-ed583d74a2a3",
   "metadata": {},
   "outputs": [
    {
     "name": "stdout",
     "output_type": "stream",
     "text": [
      "18"
     ]
    }
   ],
   "source": [
    "print(a * b)"
   ]
  }
 ],
 "metadata": {
  "kernelspec": {
   "display_name": "Julia 1.8.5",
   "language": "julia",
   "name": "julia-1.8"
  },
  "language_info": {
   "file_extension": ".jl",
   "mimetype": "application/julia",
   "name": "julia",
   "version": "1.8.5"
  }
 },
 "nbformat": 4,
 "nbformat_minor": 5
}
