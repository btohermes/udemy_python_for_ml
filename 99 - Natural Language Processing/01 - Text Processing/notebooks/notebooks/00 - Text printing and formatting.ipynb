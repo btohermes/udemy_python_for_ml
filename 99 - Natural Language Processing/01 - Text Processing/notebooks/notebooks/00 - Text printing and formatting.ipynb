{
 "cells": [
  {
   "cell_type": "code",
   "execution_count": 1,
   "id": "758b6d49-1773-47ac-8078-725afd5703b7",
   "metadata": {
    "tags": []
   },
   "outputs": [],
   "source": [
    "from datetime import datetime"
   ]
  },
  {
   "cell_type": "code",
   "execution_count": 2,
   "id": "41ac0047-90fa-4454-9b93-4c468cca0509",
   "metadata": {
    "tags": []
   },
   "outputs": [
    {
     "name": "stdout",
     "output_type": "stream",
     "text": [
      "My name is Hermes\n",
      "Hello, my name is also Hermes\n"
     ]
    }
   ],
   "source": [
    "person = \"Hermes\"\n",
    "print(\"My name is {}\".format(person))\n",
    "print(f\"Hello, my name is also {person}\")"
   ]
  },
  {
   "cell_type": "code",
   "execution_count": 3,
   "id": "abb1b8a1-f0f5-46ee-9e26-189f0025e4c9",
   "metadata": {
    "tags": []
   },
   "outputs": [
    {
     "data": {
      "text/plain": [
       "[('Author', 'Topic', 'Pages'),\n",
       " ('Twain', 'Rafting', 601),\n",
       " ('Feynman', 'Physics', 95),\n",
       " ('Hamilton', 'Mythology', 144)]"
      ]
     },
     "execution_count": 3,
     "metadata": {},
     "output_type": "execute_result"
    }
   ],
   "source": [
    "library = [ (\"Author\", \"Topic\", \"Pages\"),\n",
    "            (\"Twain\", \"Rafting\", 601),\n",
    "            (\"Feynman\", \"Physics\", 95),\n",
    "            (\"Hamilton\", \"Mythology\", 144)\n",
    "          ]\n",
    "library"
   ]
  },
  {
   "cell_type": "markdown",
   "id": "867bf609-29c9-4bda-9fea-744084594c9b",
   "metadata": {},
   "source": [
    "### Hack - Prints com espaços ou indicadores de espaços"
   ]
  },
  {
   "cell_type": "code",
   "execution_count": 5,
   "id": "8ea9c56f-34a7-4a7f-a53d-0cbac0f56961",
   "metadata": {
    "tags": []
   },
   "outputs": [
    {
     "name": "stdout",
     "output_type": "stream",
     "text": [
      "Author     Topic                          .....Pages\n",
      "Twain      Rafting                        .......601\n",
      "Feynman    Physics                        ........95\n",
      "Hamilton   Mythology                      .......144\n"
     ]
    }
   ],
   "source": [
    "for author, topic, pages in library:\n",
    "    print(f\"{author:{10}} {topic:{30}} {pages:.>{10}}\")"
   ]
  },
  {
   "cell_type": "markdown",
   "id": "cc4ef264-128c-4dae-bff8-23d4ee8857aa",
   "metadata": {},
   "source": [
    "### Dates - Prints and handling formats\n",
    "(Sting formats)[https://strftime.org/]"
   ]
  },
  {
   "cell_type": "code",
   "execution_count": 6,
   "id": "bda9d017-8627-452f-9be9-5f07cf66480a",
   "metadata": {
    "tags": []
   },
   "outputs": [],
   "source": [
    "today = datetime(year=2023, month=2, day=28)"
   ]
  },
  {
   "cell_type": "code",
   "execution_count": 9,
   "id": "49402fe9-b947-4869-bb0f-3e2e679c8691",
   "metadata": {
    "tags": []
   },
   "outputs": [
    {
     "name": "stdout",
     "output_type": "stream",
     "text": [
      "February 28, 2023\n"
     ]
    }
   ],
   "source": [
    "print(f\"{today:%B %d, %Y}\")"
   ]
  },
  {
   "cell_type": "code",
   "execution_count": null,
   "id": "48532548-0821-43d4-9d77-0c91573f86c7",
   "metadata": {},
   "outputs": [],
   "source": []
  }
 ],
 "metadata": {
  "kernelspec": {
   "display_name": "Python 3 (ipykernel)",
   "language": "python",
   "name": "python3"
  },
  "language_info": {
   "codemirror_mode": {
    "name": "ipython",
    "version": 3
   },
   "file_extension": ".py",
   "mimetype": "text/x-python",
   "name": "python",
   "nbconvert_exporter": "python",
   "pygments_lexer": "ipython3",
   "version": "3.10.9"
  }
 },
 "nbformat": 4,
 "nbformat_minor": 5
}
