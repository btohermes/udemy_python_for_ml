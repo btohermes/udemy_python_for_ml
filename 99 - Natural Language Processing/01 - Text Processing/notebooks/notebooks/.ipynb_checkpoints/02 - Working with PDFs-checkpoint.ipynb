{
 "cells": [
  {
   "cell_type": "code",
   "execution_count": null,
   "id": "db4388d6-1e09-48eb-8d13-ad7e2a3aa888",
   "metadata": {},
   "outputs": [],
   "source": [
    "## Notas:\n",
    "- É importante saber que nem todos os ficheiros de pdf têm texto que pode ser extraído.\n",
    "- Alguns pdfs são criados através de scanning, em vez de serem exportados de um ficheiro de word. No processo de scan existe uma forte chance serem escritos como imagens, dificultando imenso o procesos de extração dos ficheiros.\n",
    "- Requer software especializado (aka - Pago !)."
   ]
  },
  {
   "cell_type": "code",
   "execution_count": 4,
   "id": "f75bc7f1-c098-4175-a203-af7632faf8ce",
   "metadata": {
    "tags": []
   },
   "outputs": [
    {
     "data": {
      "text/plain": [
       "'C:\\\\Users\\\\herme\\\\PycharmProjects\\\\udemy_python_for_ml\\\\99 - Natural Language Processing\\\\01 - Text Processing\\\\notebooks'"
      ]
     },
     "execution_count": 4,
     "metadata": {},
     "output_type": "execute_result"
    }
   ],
   "source": [
    "import PyPDF2"
   ]
  },
  {
   "cell_type": "code",
   "execution_count": 5,
   "id": "0bd6d3ec-3117-405c-b47b-f19d9c6c5a68",
   "metadata": {
    "tags": []
   },
   "outputs": [],
   "source": [
    "myfile = open(\"../data/US_Declaration.pdf\", mode=\"rb\")"
   ]
  },
  {
   "cell_type": "code",
   "execution_count": null,
   "id": "40c20f49-f1e9-483f-a446-500a8aecd3e7",
   "metadata": {},
   "outputs": [],
   "source": []
  }
 ],
 "metadata": {
  "kernelspec": {
   "display_name": "Python 3 (ipykernel)",
   "language": "python",
   "name": "python3"
  },
  "language_info": {
   "codemirror_mode": {
    "name": "ipython",
    "version": 3
   },
   "file_extension": ".py",
   "mimetype": "text/x-python",
   "name": "python",
   "nbconvert_exporter": "python",
   "pygments_lexer": "ipython3",
   "version": "3.10.9"
  }
 },
 "nbformat": 4,
 "nbformat_minor": 5
}
