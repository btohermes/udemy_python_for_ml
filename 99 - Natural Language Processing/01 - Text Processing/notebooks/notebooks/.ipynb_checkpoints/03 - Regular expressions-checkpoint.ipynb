{
 "cells": [
  {
   "cell_type": "code",
   "execution_count": 1,
   "id": "834d7ddc-6b34-4ef3-a4c7-1002289b95ef",
   "metadata": {},
   "outputs": [],
   "source": [
    "## Python text Operators"
   ]
  },
  {
   "cell_type": "code",
   "execution_count": 2,
   "id": "ac40b273-4713-43b7-aff6-a81448d0544f",
   "metadata": {},
   "outputs": [],
   "source": [
    "text = \"The phone number of the agent is 408-555-1234. Call soon!\""
   ]
  },
  {
   "cell_type": "code",
   "execution_count": 3,
   "id": "20361627-74fa-44b3-8c1f-608ab40d626e",
   "metadata": {
    "tags": []
   },
   "outputs": [
    {
     "data": {
      "text/plain": [
       "True"
      ]
     },
     "execution_count": 3,
     "metadata": {},
     "output_type": "execute_result"
    }
   ],
   "source": [
    "\"408-555-1234\" in text"
   ]
  },
  {
   "cell_type": "code",
   "execution_count": 4,
   "id": "d8f3598e-21b4-4d93-8b0c-5bda7bf95835",
   "metadata": {},
   "outputs": [],
   "source": [
    "## Re library"
   ]
  },
  {
   "cell_type": "code",
   "execution_count": 5,
   "id": "fd0fbab1-0aa1-4989-b9cd-b19c44f094e3",
   "metadata": {
    "tags": []
   },
   "outputs": [],
   "source": [
    "pattern = \"phone\""
   ]
  },
  {
   "cell_type": "code",
   "execution_count": 6,
   "id": "fd42f78a-372a-44b9-9009-f13d3afe2685",
   "metadata": {},
   "outputs": [],
   "source": [
    "import re"
   ]
  },
  {
   "cell_type": "code",
   "execution_count": 7,
   "id": "8f03b734-6e07-4708-8c0d-57e4744fe2ee",
   "metadata": {
    "tags": []
   },
   "outputs": [
    {
     "data": {
      "text/plain": [
       "<re.Match object; span=(4, 9), match='phone'>"
      ]
     },
     "execution_count": 7,
     "metadata": {},
     "output_type": "execute_result"
    }
   ],
   "source": [
    "pattern = \"phone\"\n",
    "re.search(pattern, text)"
   ]
  },
  {
   "cell_type": "markdown",
   "id": "35f08b6f-f4d2-4a70-a232-6cdebcdeb2ee",
   "metadata": {},
   "source": [
    "## Observação\n",
    "- Reparar que search retorna um objecto. Portanto tem métodos associados."
   ]
  },
  {
   "cell_type": "code",
   "execution_count": 8,
   "id": "a3f67d36-31ad-4f08-9469-b5c91d2bd1bd",
   "metadata": {
    "tags": []
   },
   "outputs": [
    {
     "data": {
      "text/plain": [
       "(4, 9)"
      ]
     },
     "execution_count": 8,
     "metadata": {},
     "output_type": "execute_result"
    }
   ],
   "source": [
    "my_match = re.search(pattern, text)\n",
    "my_match.span()"
   ]
  },
  {
   "cell_type": "code",
   "execution_count": 9,
   "id": "e14644e5-301f-4a43-bd19-22b50a8c2272",
   "metadata": {
    "tags": []
   },
   "outputs": [
    {
     "name": "stdout",
     "output_type": "stream",
     "text": [
      "4\n",
      "9\n"
     ]
    }
   ],
   "source": [
    "print( my_match.start() )\n",
    "print( my_match.end() )"
   ]
  },
  {
   "cell_type": "code",
   "execution_count": 13,
   "id": "e9f69a36-2e1d-4052-9331-bd7a84cf7883",
   "metadata": {
    "tags": []
   },
   "outputs": [
    {
     "data": {
      "text/plain": [
       "2"
      ]
     },
     "execution_count": 13,
     "metadata": {},
     "output_type": "execute_result"
    }
   ],
   "source": [
    "text = \"my phone is a new phone\"\n",
    "all_matches = re.findall(pattern, text)\n",
    "len(all_matches)"
   ]
  },
  {
   "cell_type": "code",
   "execution_count": 15,
   "id": "327f051e-b929-4bce-b325-6899cab0055f",
   "metadata": {
    "tags": []
   },
   "outputs": [
    {
     "name": "stdout",
     "output_type": "stream",
     "text": [
      "(3, 8)\n",
      "(18, 23)\n"
     ]
    }
   ],
   "source": [
    "for match in re.finditer(pattern, text):\n",
    "    print(match.span())"
   ]
  },
  {
   "cell_type": "code",
   "execution_count": 22,
   "id": "be8ba237-8350-4fa4-9913-4183989c1285",
   "metadata": {
    "tags": []
   },
   "outputs": [
    {
     "data": {
      "text/plain": [
       "'777-555-1234'"
      ]
     },
     "execution_count": 22,
     "metadata": {},
     "output_type": "execute_result"
    }
   ],
   "source": [
    "text = \"My phone number is 777-555-1234\"\n",
    "pattern = r\"\\d\\d\\d-\\d\\d\\d-\\d\\d\\d\\d\"\n",
    "\n",
    "phone_number = re.search(pattern, text)\n",
    "phone_number.group()"
   ]
  },
  {
   "cell_type": "code",
   "execution_count": 23,
   "id": "f3cfd651-59dc-46ce-ba28-eb0f6142e7ed",
   "metadata": {
    "tags": []
   },
   "outputs": [
    {
     "data": {
      "text/plain": [
       "'777-555-1234'"
      ]
     },
     "execution_count": 23,
     "metadata": {},
     "output_type": "execute_result"
    }
   ],
   "source": [
    "phone_number = re.search(pattern, text)\n",
    "phone_number.group()"
   ]
  },
  {
   "cell_type": "markdown",
   "id": "4285d782-daee-4138-a4a6-dfdf497f9c79",
   "metadata": {},
   "source": [
    "- Agora com quantificadores"
   ]
  },
  {
   "cell_type": "code",
   "execution_count": 24,
   "id": "3ecd7336-af28-4cd8-a40f-367c40a05217",
   "metadata": {
    "tags": []
   },
   "outputs": [
    {
     "data": {
      "text/plain": [
       "'777-555-1234'"
      ]
     },
     "execution_count": 24,
     "metadata": {},
     "output_type": "execute_result"
    }
   ],
   "source": [
    "pattern = r\"\\d{3}-\\d{3}-\\d{4}\"\n",
    "phone_number = re.search(pattern, text)\n",
    "phone_number.group()"
   ]
  },
  {
   "cell_type": "markdown",
   "id": "1bd6fa2c-93d1-4cf4-ba23-7855e2c338c3",
   "metadata": {},
   "source": [
    "- Agora com grupos"
   ]
  },
  {
   "cell_type": "code",
   "execution_count": 29,
   "id": "8c2d34ab-af91-4403-a669-ca1e6e55d2cf",
   "metadata": {
    "tags": []
   },
   "outputs": [
    {
     "name": "stdout",
     "output_type": "stream",
     "text": [
      "777\n",
      "777-555-1234\n"
     ]
    }
   ],
   "source": [
    "pattern = r\"(\\d{3})-(\\d{3})-(\\d{4})\"\n",
    "phone_number = re.search(pattern, text)\n",
    "print(phone_number.group(1))\n",
    "print(phone_number.group())"
   ]
  },
  {
   "cell_type": "markdown",
   "id": "6f6d7f39-2144-48f2-a49d-d4ac5aae5d2a",
   "metadata": {
    "tags": []
   },
   "source": [
    "- agora com operadores or (aka |)"
   ]
  },
  {
   "cell_type": "code",
   "execution_count": null,
   "id": "9e020744-7832-400f-913d-610934968d76",
   "metadata": {},
   "outputs": [],
   "source": []
  }
 ],
 "metadata": {
  "kernelspec": {
   "display_name": "Python 3 (ipykernel)",
   "language": "python",
   "name": "python3"
  },
  "language_info": {
   "codemirror_mode": {
    "name": "ipython",
    "version": 3
   },
   "file_extension": ".py",
   "mimetype": "text/x-python",
   "name": "python",
   "nbconvert_exporter": "python",
   "pygments_lexer": "ipython3",
   "version": "3.10.9"
  }
 },
 "nbformat": 4,
 "nbformat_minor": 5
}
