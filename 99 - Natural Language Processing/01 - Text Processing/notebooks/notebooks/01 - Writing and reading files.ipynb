{
 "cells": [
  {
   "cell_type": "code",
   "execution_count": 1,
   "id": "fa17bf1c-c2d3-4353-a252-f69c3c4f1ec2",
   "metadata": {
    "tags": []
   },
   "outputs": [
    {
     "name": "stdout",
     "output_type": "stream",
     "text": [
      "Overwriting test.txt\n"
     ]
    }
   ],
   "source": [
    "%%writefile test.txt\n",
    "Hello, this is a quick test file.\n",
    "This is the second line of the file."
   ]
  },
  {
   "cell_type": "code",
   "execution_count": 2,
   "id": "0f9f98e4-00c7-4d6b-a700-811a33900120",
   "metadata": {
    "tags": []
   },
   "outputs": [
    {
     "data": {
      "text/plain": [
       "<_io.TextIOWrapper name='test.txt' mode='r' encoding='cp1252'>"
      ]
     },
     "execution_count": 2,
     "metadata": {},
     "output_type": "execute_result"
    }
   ],
   "source": [
    "myfile = open(\"test.txt\")\n",
    "myfile"
   ]
  },
  {
   "cell_type": "markdown",
   "id": "cb2fd756-cf4a-4575-afc6-82d5738a3e80",
   "metadata": {
    "tags": []
   },
   "source": [
    "#### Observaçao\n",
    "- reparar as propriedades do ficheiro mode e encoding"
   ]
  },
  {
   "cell_type": "code",
   "execution_count": 3,
   "id": "972334a1-37ce-4a9f-8e89-d901432eda06",
   "metadata": {
    "tags": []
   },
   "outputs": [
    {
     "data": {
      "text/plain": [
       "'Hello, this is a quick test file.\\nThis is the second line of the file.\\n'"
      ]
     },
     "execution_count": 3,
     "metadata": {},
     "output_type": "execute_result"
    }
   ],
   "source": [
    "myfile.read()"
   ]
  },
  {
   "cell_type": "code",
   "execution_count": 4,
   "id": "159b0a21-d666-46ba-9c1f-4de788a5067e",
   "metadata": {
    "tags": []
   },
   "outputs": [
    {
     "data": {
      "text/plain": [
       "''"
      ]
     },
     "execution_count": 4,
     "metadata": {},
     "output_type": "execute_result"
    }
   ],
   "source": [
    "myfile.read()"
   ]
  },
  {
   "cell_type": "markdown",
   "id": "5c4cf38f-c7d4-49b4-82dc-769395135cff",
   "metadata": {},
   "source": [
    "#### Observaçao\n",
    "- executar o metodo uma segunda vez faz com que myfile salte para a proxima linha"
   ]
  },
  {
   "cell_type": "code",
   "execution_count": 5,
   "id": "065a54a4-9568-4712-82df-12e102f2d229",
   "metadata": {
    "tags": []
   },
   "outputs": [
    {
     "data": {
      "text/plain": [
       "0"
      ]
     },
     "execution_count": 5,
     "metadata": {},
     "output_type": "execute_result"
    }
   ],
   "source": [
    "myfile.seek(0)"
   ]
  },
  {
   "cell_type": "code",
   "execution_count": 6,
   "id": "3a1937b1-b849-4e5b-bc71-24bdc903d5ed",
   "metadata": {
    "tags": []
   },
   "outputs": [
    {
     "data": {
      "text/plain": [
       "'Hello, this is a quick test file.\\nThis is the second line of the file.\\n'"
      ]
     },
     "execution_count": 6,
     "metadata": {},
     "output_type": "execute_result"
    }
   ],
   "source": [
    "content = myfile.read()\n",
    "content"
   ]
  },
  {
   "cell_type": "code",
   "execution_count": 7,
   "id": "e7ed196a-656b-4ef4-8bc2-63eb5bee652c",
   "metadata": {
    "tags": []
   },
   "outputs": [
    {
     "name": "stdout",
     "output_type": "stream",
     "text": [
      "Hello, this is a quick test file.\n",
      "This is the second line of the file.\n",
      "\n"
     ]
    }
   ],
   "source": [
    "print(content)"
   ]
  },
  {
   "cell_type": "markdown",
   "id": "4e2562f7-7eb8-4368-8582-7afc25e56bc5",
   "metadata": {},
   "source": [
    "#### Observaçao\n",
    "- print consegue fazer parsing de escaped values"
   ]
  },
  {
   "cell_type": "code",
   "execution_count": 8,
   "id": "8fae8c38-aa49-41fa-b186-917789985eaf",
   "metadata": {
    "tags": []
   },
   "outputs": [],
   "source": [
    "myfile.close()"
   ]
  },
  {
   "cell_type": "code",
   "execution_count": 9,
   "id": "ef472c5a-53c5-47df-b498-83b84d3472b5",
   "metadata": {
    "tags": []
   },
   "outputs": [
    {
     "data": {
      "text/plain": [
       "['Hello, this is a quick test file.\\n',\n",
       " 'This is the second line of the file.\\n']"
      ]
     },
     "execution_count": 9,
     "metadata": {},
     "output_type": "execute_result"
    }
   ],
   "source": [
    "myfile = open(\"test.txt\")\n",
    "myfile.readlines()"
   ]
  },
  {
   "cell_type": "code",
   "execution_count": 10,
   "id": "cc60f904-207b-45f6-8e29-6333f804f6d3",
   "metadata": {},
   "outputs": [
    {
     "data": {
      "text/plain": [
       "0"
      ]
     },
     "execution_count": 10,
     "metadata": {},
     "output_type": "execute_result"
    }
   ],
   "source": [
    "myfile.seek(0)"
   ]
  },
  {
   "cell_type": "code",
   "execution_count": 11,
   "id": "6799ecff-9b17-42cf-a21d-b149305f2f43",
   "metadata": {
    "tags": []
   },
   "outputs": [
    {
     "name": "stdout",
     "output_type": "stream",
     "text": [
      "Hello,\n",
      "This\n"
     ]
    }
   ],
   "source": [
    "mylines = myfile.readlines()\n",
    "for line in mylines:\n",
    "    print(line.split()[0])"
   ]
  },
  {
   "cell_type": "code",
   "execution_count": 12,
   "id": "8ba9c530-2b90-46e7-b015-95412f3e3f2f",
   "metadata": {
    "tags": []
   },
   "outputs": [],
   "source": [
    "myfile = open(\"test.txt\",\"w+\")"
   ]
  },
  {
   "cell_type": "code",
   "execution_count": 13,
   "id": "62c10d0e-f1e8-4065-a3f2-ed929614cc5b",
   "metadata": {
    "tags": []
   },
   "outputs": [
    {
     "data": {
      "text/plain": [
       "''"
      ]
     },
     "execution_count": 13,
     "metadata": {},
     "output_type": "execute_result"
    }
   ],
   "source": [
    "myfile.read()"
   ]
  },
  {
   "cell_type": "code",
   "execution_count": 14,
   "id": "12692b19-1600-4431-be9d-f1e924f46bb0",
   "metadata": {
    "tags": []
   },
   "outputs": [
    {
     "data": {
      "text/plain": [
       "0"
      ]
     },
     "execution_count": 14,
     "metadata": {},
     "output_type": "execute_result"
    }
   ],
   "source": [
    "myfile.write(\"My brand new test\")\n",
    "myfile.seek(0)"
   ]
  },
  {
   "cell_type": "code",
   "execution_count": 15,
   "id": "93097462-74d0-4298-b1f7-505460473f8d",
   "metadata": {
    "tags": []
   },
   "outputs": [
    {
     "data": {
      "text/plain": [
       "'My brand new test'"
      ]
     },
     "execution_count": 15,
     "metadata": {},
     "output_type": "execute_result"
    }
   ],
   "source": [
    "myfile.read()"
   ]
  },
  {
   "cell_type": "code",
   "execution_count": 16,
   "id": "332c17e3-ec3b-48e2-a061-6246bd8feebf",
   "metadata": {
    "tags": []
   },
   "outputs": [],
   "source": [
    "myfile.close()"
   ]
  },
  {
   "cell_type": "markdown",
   "id": "73934213-9361-40f2-8110-673ab952d38f",
   "metadata": {},
   "source": [
    "## Observação:\n",
    "Quando o mode é a+, quando escreves no ficheiro ele faz append. Reparar que tens de adicionar \\n para saltar para baixo. "
   ]
  },
  {
   "cell_type": "code",
   "execution_count": 17,
   "id": "7449b039-32bf-4e52-b2f8-a6b6bf5ced25",
   "metadata": {
    "tags": []
   },
   "outputs": [],
   "source": [
    "myfile = open(\"woops.txt\", \"a+\")"
   ]
  },
  {
   "cell_type": "code",
   "execution_count": 18,
   "id": "004d11b5-afc0-414e-a4bc-d1aabeb976e2",
   "metadata": {
    "tags": []
   },
   "outputs": [
    {
     "data": {
      "text/plain": [
       "27"
      ]
     },
     "execution_count": 18,
     "metadata": {},
     "output_type": "execute_result"
    }
   ],
   "source": [
    "myfile.write(\"My first line in A+ opening\")"
   ]
  },
  {
   "cell_type": "code",
   "execution_count": 19,
   "id": "57d3251e-bcfe-4dd2-ba6c-c596c7fc4137",
   "metadata": {
    "tags": []
   },
   "outputs": [],
   "source": [
    "myfile.close()"
   ]
  },
  {
   "cell_type": "code",
   "execution_count": 24,
   "id": "da78f0a4-1d35-4c9f-954a-0f5a27be89cc",
   "metadata": {
    "tags": []
   },
   "outputs": [],
   "source": [
    "newfile = open(\"woops.txt\")"
   ]
  },
  {
   "cell_type": "code",
   "execution_count": 25,
   "id": "c8b2e8a8-24bc-480d-918c-1a90f8723aab",
   "metadata": {
    "tags": []
   },
   "outputs": [
    {
     "data": {
      "text/plain": [
       "'My first line in A+ opening'"
      ]
     },
     "execution_count": 25,
     "metadata": {},
     "output_type": "execute_result"
    }
   ],
   "source": [
    "newfile.read()"
   ]
  },
  {
   "cell_type": "code",
   "execution_count": null,
   "id": "cc11f732-3908-4117-8f5f-a5452616af18",
   "metadata": {},
   "outputs": [],
   "source": []
  }
 ],
 "metadata": {
  "kernelspec": {
   "display_name": "Python 3 (ipykernel)",
   "language": "python",
   "name": "python3"
  },
  "language_info": {
   "codemirror_mode": {
    "name": "ipython",
    "version": 3
   },
   "file_extension": ".py",
   "mimetype": "text/x-python",
   "name": "python",
   "nbconvert_exporter": "python",
   "pygments_lexer": "ipython3",
   "version": "3.10.9"
  }
 },
 "nbformat": 4,
 "nbformat_minor": 5
}
